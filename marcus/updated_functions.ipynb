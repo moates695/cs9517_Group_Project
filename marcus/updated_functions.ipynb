{
 "cells": [
  {
   "cell_type": "code",
   "execution_count": 1,
   "metadata": {},
   "outputs": [],
   "source": [
    "import cv2\n",
    "import numpy as np\n",
    "import matplotlib.pyplot as plt\n",
    "from glob import glob\n",
    "from scipy import ndimage\n",
    "from skimage.feature import peak_local_max\n",
    "from sklearn.cluster import DBSCAN, AffinityPropagation, MeanShift\n",
    "from matplotlib import cm"
   ]
  },
  {
   "cell_type": "code",
   "execution_count": 2,
   "metadata": {},
   "outputs": [],
   "source": [
    "MIN = 0\n",
    "MAX = 2 ** 16 - 1"
   ]
  },
  {
   "cell_type": "code",
   "execution_count": 21,
   "metadata": {},
   "outputs": [],
   "source": [
    "def import_sequences():\n",
    "    PATH = '../sequences/0'\n",
    "    imgs = []\n",
    "    for i in range(1, 5):\n",
    "        imgs_path = []\n",
    "        for image in glob(f'{PATH}{i}/*.tif'):\n",
    "            img = cv2.imread(image, -1)\n",
    "            imgs_path.append(cv2.normalize(img, dst=None, alpha=MIN, beta=MAX, norm_type=cv2.NORM_MINMAX))\n",
    "        imgs.append(imgs_path)\n",
    "    return imgs"
   ]
  },
  {
   "cell_type": "code",
   "execution_count": 22,
   "metadata": {},
   "outputs": [],
   "source": [
    "imgs = import_sequences()"
   ]
  },
  {
   "cell_type": "code",
   "execution_count": 4,
   "metadata": {},
   "outputs": [],
   "source": [
    "NROWS = imgs[0][0].shape[0]\n",
    "NCOLS = imgs[0][0].shape[1]"
   ]
  },
  {
   "cell_type": "code",
   "execution_count": 5,
   "metadata": {},
   "outputs": [],
   "source": [
    "def show(img, s=True):\n",
    "    plt.imshow(img, cmap='gray')\n",
    "    if s:\n",
    "        plt.show()"
   ]
  },
  {
   "cell_type": "code",
   "execution_count": 25,
   "metadata": {},
   "outputs": [],
   "source": [
    "def segment(original):\n",
    "    img = np.zeros_like(original)\n",
    "    cv2.threshold(original, dst=img, thresh=np.median(original)*1.2, maxval=MAX, type=cv2.THRESH_BINARY)\n",
    "    struct_element = cv2.getStructuringElement(cv2.MORPH_RECT, ksize=(5,5))\n",
    "    img1 = np.zeros_like(original)\n",
    "    cv2.morphologyEx(img, dst=img1, op=cv2.MORPH_OPEN, kernel=struct_element, borderValue=cv2.BORDER_REFLECT)\n",
    "    img2 = np.zeros_like(original)\n",
    "    cv2.threshold(img1, dst=img2, thresh=MAX-1, maxval=MAX, type=cv2.THRESH_BINARY)\n",
    "    return img2"
   ]
  },
  {
   "cell_type": "code",
   "execution_count": 7,
   "metadata": {},
   "outputs": [],
   "source": [
    "def points(img):\n",
    "    pts = {}\n",
    "    for i in range(img.shape[0]):\n",
    "        for j in range(img.shape[1]):\n",
    "            if img[i,j] == MAX:\n",
    "                pts[(i,j)] = None\n",
    "    return pts"
   ]
  },
  {
   "cell_type": "code",
   "execution_count": 8,
   "metadata": {},
   "outputs": [],
   "source": [
    "def create_img(pts):\n",
    "    new = np.zeros((NROWS, NCOLS))\n",
    "    for (i, j) in pts:\n",
    "        new[i, j] = MAX\n",
    "    return new"
   ]
  },
  {
   "cell_type": "code",
   "execution_count": 9,
   "metadata": {},
   "outputs": [],
   "source": [
    "def flush_border_cells(pts, img):\n",
    "    to_check = []\n",
    "    border_pts = {}\n",
    "    border_img = np.zeros((NROWS, NCOLS))\n",
    "    for pt in pts:\n",
    "        if pt[0] == 0 or pt[1] == 0 or pt[0] == NROWS-1 or pt[1] == NCOLS-1:\n",
    "            to_check.append(pt)\n",
    "            border_pts[pt] = None\n",
    "            border_img[pt[0], pt[1]] = MAX\n",
    "    cnt = 0\n",
    "    while cnt < 50000:\n",
    "        if len(to_check) == 0:\n",
    "            break\n",
    "        if cnt == 49999:\n",
    "            print(len(to_check))\n",
    "        b_pt = to_check.pop(0)\n",
    "        for i in range(-1, 2):\n",
    "            for j in range(-1, 2):\n",
    "                if (b_pt[0]+i, b_pt[1]+j) in pts and (b_pt[0]+i, b_pt[1]+j) not in border_pts:\n",
    "                    to_check.append((b_pt[0]+i, b_pt[1]+j))\n",
    "                    border_pts[(b_pt[0]+i, b_pt[1]+j)] = None\n",
    "                    border_img[b_pt[0]+i, b_pt[1]+j] = MAX\n",
    "        cnt += 1\n",
    "    new = img - border_img\n",
    "    return new.astype('uint16'), border_pts"
   ]
  },
  {
   "cell_type": "code",
   "execution_count": 10,
   "metadata": {},
   "outputs": [],
   "source": [
    "def colour_label_image(pts_labels, show=True):\n",
    "    cmap = cm.get_cmap('hsv').copy()\n",
    "    new_img = np.zeros((NROWS, NCOLS))\n",
    "    cmap.set_bad(color='black')\n",
    "    for (pt, label) in pts_labels.items():\n",
    "        new_img[pt[0],pt[1]] = label\n",
    "    norm_new = plt.Normalize(new_img.min(), new_img.max())\n",
    "    for i in range(NROWS):\n",
    "        for j in range(NCOLS):\n",
    "            if (i,j) not in pts_labels:\n",
    "                new_img[i,j] = np.nan\n",
    "    rgba_img = cmap(norm_new(new_img))\n",
    "    if show:\n",
    "        plt.imshow(rgba_img)\n",
    "        plt.show()\n",
    "    return rgba_img"
   ]
  },
  {
   "cell_type": "code",
   "execution_count": 11,
   "metadata": {},
   "outputs": [],
   "source": [
    "def plt_rgb_img_scatter(cs, pts_labels=None):\n",
    "    rgb_img = colour_label_image(pts_labels, False)\n",
    "    plt.imshow(rgb_img)\n",
    "    if pts_labels != None:\n",
    "        for (x, y) in cs.values():\n",
    "            plt.scatter(y, x, c='white', marker='o')\n",
    "    plt.show()"
   ]
  },
  {
   "cell_type": "code",
   "execution_count": 12,
   "metadata": {},
   "outputs": [],
   "source": [
    "def check_coords(pt):\n",
    "    if pt[0] < 0 or pt[0] > NROWS-1 or pt[1] < 0 or pt[1] > NCOLS-1:\n",
    "        return False\n",
    "    return True"
   ]
  },
  {
   "cell_type": "code",
   "execution_count": 13,
   "metadata": {},
   "outputs": [],
   "source": [
    "def erode(pts):\n",
    "    eroded1_pts = {}\n",
    "    for (x,y) in pts:\n",
    "        if (x,y-1) in pts and (x, y+1) in pts:\n",
    "            eroded1_pts[(x,y)] = pts[(x,y)]\n",
    "    eroded2_pts = {}\n",
    "    for (x,y) in eroded1_pts:\n",
    "        if (x-1,y) in eroded1_pts and (x+1, y) in eroded1_pts:\n",
    "            eroded2_pts[(x,y)] = eroded1_pts[(x,y)]\n",
    "    return eroded2_pts"
   ]
  },
  {
   "cell_type": "code",
   "execution_count": 14,
   "metadata": {},
   "outputs": [],
   "source": [
    "def dilate(pts):\n",
    "    dilated1_pts = pts.copy()\n",
    "    for (x,y) in pts:\n",
    "        if (x,y-1) not in pts and check_coords((x,y-1)):\n",
    "            dilated1_pts[(x, y-1)] = pts[(x,y)]\n",
    "        if (x, y+1) not in pts and check_coords((x,y+1)):\n",
    "            dilated1_pts[(x, y+1)] = pts[(x,y)]\n",
    "    dilated2_pts = dilated1_pts.copy()\n",
    "    for (x,y) in dilated1_pts:\n",
    "        if (x-1,y) not in dilated1_pts and check_coords((x-1,y)):\n",
    "            dilated2_pts[(x-1, y)] = dilated1_pts[(x,y)]\n",
    "        if (x+1, y) not in dilated1_pts and check_coords((x+1,y)):  \n",
    "            dilated2_pts[(x+1, y)] = dilated1_pts[(x,y)]\n",
    "    return dilated2_pts"
   ]
  },
  {
   "cell_type": "code",
   "execution_count": 20,
   "metadata": {},
   "outputs": [],
   "source": [
    "def contours(pts):\n",
    "    dilated2_pts = dilate(pts)\n",
    "    sub = {}\n",
    "    for pt, label in dilated2_pts.items():\n",
    "        if pt not in pts:\n",
    "            sub[pt] = label\n",
    "    return sub"
   ]
  },
  {
   "cell_type": "code",
   "execution_count": 16,
   "metadata": {},
   "outputs": [],
   "source": [
    "def no_collision(pt, label, existing_pts):\n",
    "    for (i,j) in [(0, -1), (0, 1), (-1, 0), (1, 0)]:\n",
    "        point = (pt[0]+i,pt[1]+j)\n",
    "        if point in existing_pts and label != existing_pts[point]:\n",
    "                return False\n",
    "    '''\n",
    "    for i in range(-1, 2):\n",
    "        for j in range(-1, 2):\n",
    "            point = (pt[0]+i,pt[1]+j)\n",
    "            if point in existing_pts and label != existing_pts[point]:\n",
    "                return False\n",
    "    '''\n",
    "    return True"
   ]
  },
  {
   "cell_type": "code",
   "execution_count": 31,
   "metadata": {},
   "outputs": [],
   "source": [
    "def rebuild(img, show=True):\n",
    "    # could use flushed image? Depends on cell tracking\n",
    "    pts = points(img)\n",
    "    distance = ndimage.distance_transform_edt(img)\n",
    "    coords = peak_local_max(distance, footprint=np.ones((7,7)), labels = img, min_distance=12)\n",
    "    coords = {tuple(c): i for i, c in enumerate(coords)}\n",
    "    \n",
    "    dilated2_pts = coords.copy()\n",
    "    while 1:\n",
    "        base = dilated2_pts.copy()\n",
    "        dilated1_pts = base.copy()\n",
    "        for pt, label in base.items():\n",
    "            pt1 = (pt[0],pt[1]-1)\n",
    "            if pt1 in dilated1_pts:\n",
    "                pass\n",
    "            elif no_collision(pt1, label, dilated1_pts) and pt1 in pts:\n",
    "                dilated1_pts[pt1] = label\n",
    "            \n",
    "            pt2 = (pt[0], pt[1]+1)\n",
    "            if pt2 in dilated1_pts:\n",
    "                pass\n",
    "            elif no_collision(pt2, label, dilated1_pts) and pt2 in pts:\n",
    "                dilated1_pts[pt2] = label\n",
    "       \n",
    "        dilated2_pts = dilated1_pts.copy()\n",
    "        for pt, label in dilated1_pts.items():\n",
    "            pt1 = (pt[0]-1,pt[1])\n",
    "            if pt1 in dilated2_pts:\n",
    "                pass\n",
    "            elif no_collision(pt1, label, dilated2_pts) and pt1 in pts:\n",
    "                dilated2_pts[pt1] = label\n",
    "            \n",
    "            pt2 = (pt[0]+1, pt[1])\n",
    "            if pt2 in dilated2_pts:\n",
    "                pass\n",
    "            elif no_collision(pt2, label, dilated2_pts) and pt2 in pts:\n",
    "                dilated2_pts[pt2] = label\n",
    "        if base == dilated2_pts:\n",
    "            break\n",
    "    if show:\n",
    "        colour_label_image(dilated2_pts)\n",
    "    return dilated2_pts "
   ]
  },
  {
   "cell_type": "code",
   "execution_count": 40,
   "metadata": {},
   "outputs": [],
   "source": [
    "def centroids(pts):\n",
    "    extrema = {}\n",
    "    for (x,y), label in pts.items():\n",
    "        if label not in extrema:\n",
    "            extrema[label] = {'x1': x, 'x2': x, 'y1': y, 'y2': y}\n",
    "        if x < extrema[label]['x1']:\n",
    "            extrema[label]['x1'] = x\n",
    "        elif x > extrema[label]['x2']:\n",
    "            extrema[label]['x2'] = x\n",
    "        if y < extrema[label]['y1']:\n",
    "            extrema[label]['y1'] = y\n",
    "        elif y > extrema[label]['y2']:\n",
    "            extrema[label]['y2'] = y\n",
    "    centres = {}\n",
    "    for label, data in extrema.items():\n",
    "        centres[label] = (int(abs(data['x2']-data['x2'])/2), \n",
    "                          int(abs(data['y1']-data['y2'])/2))\n",
    "    return centres"
   ]
  },
  {
   "cell_type": "code",
   "execution_count": 41,
   "metadata": {},
   "outputs": [],
   "source": [
    "seg = segment(imgs[0][0])"
   ]
  },
  {
   "cell_type": "code",
   "execution_count": 42,
   "metadata": {},
   "outputs": [
    {
     "data": {
      "image/png": "[encoded data removed]",
      "text/plain": [
       "<Figure size 432x288 with 1 Axes>"
      ]
     },
     "metadata": {
      "needs_background": "light"
     },
     "output_type": "display_data"
    }
   ],
   "source": [
    "pts = rebuild(seg)"
   ]
  },
  {
   "cell_type": "code",
   "execution_count": 43,
   "metadata": {},
   "outputs": [],
   "source": [
    "centroid = centroids(pts)"
   ]
  },
  {
   "cell_type": "code",
   "execution_count": 44,
   "metadata": {},
   "outputs": [
    {
     "name": "stdout",
     "output_type": "stream",
     "text": [
      "{0: (0, 19), 1: (0, 19), 2: (0, 18), 3: (0, 19), 4: (0, 18), 5: (0, 18), 6: (0, 19), 7: (0, 19), 8: (0, 18), 9: (0, 20), 10: (0, 16), 11: (0, 16), 12: (0, 16), 13: (0, 18), 14: (0, 15), 15: (0, 18), 16: (0, 19), 17: (0, 17), 18: (0, 17), 19: (0, 16), 20: (0, 15), 21: (0, 18), 22: (0, 17), 23: (0, 15), 24: (0, 17), 25: (0, 14), 26: (0, 14), 27: (0, 12), 28: (0, 14), 29: (0, 20), 30: (0, 13), 31: (0, 13), 32: (0, 10), 33: (0, 10), 34: (0, 14), 35: (0, 13), 36: (0, 12), 37: (0, 11), 38: (0, 13), 39: (0, 9), 40: (0, 8), 41: (0, 8), 42: (0, 14), 43: (0, 8), 44: (0, 7)}\n"
     ]
    }
   ],
   "source": [
    "print(centroid)"
   ]
  },
  {
   "cell_type": "code",
   "execution_count": null,
   "metadata": {},
   "outputs": [],
   "source": []
  }
 ],
 "metadata": {
  "interpreter": {
   "hash": "ad9ec10f07e92eac193e696c5a775ad48816a7437749e6f8e6f27c2a20c76dad"
  },
  "kernelspec": {
   "display_name": "Python 3.8.11 64-bit ('COMP9517': conda)",
   "name": "python3"
  },
  "language_info": {
   "codemirror_mode": {
    "name": "ipython",
    "version": 3
   },
   "file_extension": ".py",
   "mimetype": "text/x-python",
   "name": "python",
   "nbconvert_exporter": "python",
   "pygments_lexer": "ipython3",
   "version": "3.8.11"
  },
  "orig_nbformat": 4
 },
 "nbformat": 4,
 "nbformat_minor": 2
}
