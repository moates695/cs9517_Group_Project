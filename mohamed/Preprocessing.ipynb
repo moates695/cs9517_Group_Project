{
 "cells": [
  {
   "cell_type": "code",
   "execution_count": 1,
   "id": "6fb40483",
   "metadata": {},
   "outputs": [],
   "source": [
    "import cv2\n",
    "import numpy as np\n",
    "\n",
    "from matplotlib import pyplot as plt\n",
    "from matplotlib import image as mping\n",
    "import pylab\n",
    "\n",
    "import mahotas as mh\n",
    "import os\n",
    "import copy"
   ]
  },
  {
   "cell_type": "code",
   "execution_count": 2,
   "id": "13625339",
   "metadata": {},
   "outputs": [],
   "source": [
    "mainPath = \"../Sequences\"\n",
    "\n",
    "dataSet01 = mainPath + \"01\"\n",
    "dataSet02 = mainPath + \"02\"\n",
    "dataSet03 = mainPath + \"03\"\n",
    "dataSet04 = mainPath + \"04\""
   ]
  },
  {
   "cell_type": "code",
   "execution_count": 3,
   "id": "0940e6d1",
   "metadata": {},
   "outputs": [],
   "source": [
    "img_list = os.listdir('../Sequences/01')\n",
    "img_list = img_list[1:]"
   ]
  },
  {
   "cell_type": "code",
   "execution_count": 4,
   "id": "305d3c51",
   "metadata": {},
   "outputs": [],
   "source": [
    "def pre_processing2(gray_img):\n",
    "    \n",
    "#     ----------- Pre Processing -----------\n",
    "    \n",
    "#     ----------- Gamma Filtering -----------\n",
    "\n",
    "    gamma_filter = copy.deepcopy(gray_img)\n",
    "    rows, cols = gamma_filter.shape[0], gamma_filter.shape[1]\n",
    "    for i in range(rows):\n",
    "        for j in range(cols):\n",
    "            gamma_filter[i][j] = 10 * pow(gamma_filter[i][j], 2.5)\n",
    "            \n",
    "    gamma_img = cv2.GaussianBlur(gamma_filter, (9,9), 0)\n",
    "    \n",
    "#     plt.figure(figsize = (20,10))\n",
    "#     plt.subplot(1,2,1), plt.imshow(gray_img, cmap = 'gray'), plt.title('Original Gray Image')\n",
    "#     plt.xticks([]), plt.yticks([])\n",
    "#     plt.subplot(1,2,2), plt.imshow(gamma_img, cmap = 'gray'), plt.title('Gamma Image')\n",
    "#     plt.xticks([]), plt.yticks([])\n",
    "#     plt.show()\n",
    "    \n",
    "#     plt.figure(figsize = (20,10))\n",
    "#     plt.subplot(1,2,1), plt.imshow(gray_img), plt.title('Original Gray Image')\n",
    "#     plt.xticks([]), plt.yticks([])\n",
    "#     plt.subplot(1,2,2), plt.imshow(gamma_img), plt.title('Gamma Image')\n",
    "#     plt.xticks([]), plt.yticks([])\n",
    "#     plt.show()\n",
    "    \n",
    "#     ----------- Thresholding Original and Gamma Images -----------\n",
    "    \n",
    "    ret_val_gray_img, treshold_gray_img = cv2.threshold(gray_img, 0, 255, cv2.THRESH_BINARY + cv2.THRESH_OTSU)\n",
    "    ret_val, treshold = cv2.threshold(gamma_img, 0, 255, cv2.THRESH_BINARY + cv2.THRESH_OTSU)\n",
    "    \n",
    "#     plt.figure(figsize = (20,10))\n",
    "#     plt.subplot(1,2,1), plt.imshow(treshold_gray_img, cmap = 'gray'), plt.title('Threshold Original Image')\n",
    "#     plt.xticks([]), plt.yticks([])\n",
    "#     plt.subplot(1,2,2), plt.imshow(treshold, cmap = 'gray'), plt.title('Threshold Gamma Image')\n",
    "#     plt.xticks([]), plt.yticks([])\n",
    "#     plt.show()\n",
    "\n",
    "#     plt.figure(figsize = (20,10))\n",
    "#     plt.subplot(1,2,1), plt.imshow(treshold_gray_img), plt.title('Threshold Original Image')\n",
    "#     plt.xticks([]), plt.yticks([])\n",
    "#     plt.subplot(1,2,2), plt.imshow(treshold), plt.title('Threshold Gamma Image')\n",
    "#     plt.xticks([]), plt.yticks([])\n",
    "#     plt.show()\n",
    "    \n",
    "#     ----------- Filling the holes in the threshold image -----------\n",
    "    \n",
    "    filled_img = treshold.copy()\n",
    "    cv2.floodFill(filled_img, None, (0,0), 1)\n",
    "    for i in range(treshold.shape[0]):\n",
    "        for j in range(treshold.shape[1]):\n",
    "            if filled_img[i,j] == 0:\n",
    "                treshold[i,j] = 255\n",
    "                \n",
    "#     plt.figure(figsize = (20,10))\n",
    "#     plt.subplot(1,2,1), plt.imshow(treshold), plt.title('Final Processed Image')\n",
    "#     plt.xticks([]), plt.yticks([])\n",
    "#     plt.subplot(1,2,2), plt.imshow(treshold, cmap = 'gray'), plt.title('Final Processed Image - Gray Map')\n",
    "#     plt.xticks([]), plt.yticks([])\n",
    "#     plt.show()\n",
    "\n",
    "    plt.imshow(treshold, cmap = 'gray'), plt.title('Filled Threshold Gamma Image')\n",
    "    plt.xticks([]), plt.yticks([])\n",
    "    plt.show()\n",
    "    \n",
    "#     plt.imshow(treshold), plt.title('Filled Threshold Gamma Image')\n",
    "#     plt.xticks([]), plt.yticks([])\n",
    "#     plt.show()\n",
    "\n",
    "\n",
    "\n",
    "#     ----------- Segmentation -----------\n",
    "\n",
    "\n",
    "    "
   ]
  },
  {
   "cell_type": "code",
   "execution_count": 5,
   "id": "d8f59f6e",
   "metadata": {},
   "outputs": [
    {
     "data": {
      "image/png": "[encoded data removed]",
      "text/plain": [
       "<Figure size 432x288 with 1 Axes>"
      ]
     },
     "metadata": {},
     "output_type": "display_data"
    }
   ],
   "source": [
    "for i in img_list:\n",
    "    cur_img = cv2.imread(f'/Users/muqaddis/Documents/COMP9517/GroupProject/Sequences/01/{i}', 1)\n",
    "\n",
    "gray_img = cv2.cvtColor(cur_img, cv2.COLOR_BGR2GRAY)\n",
    "pre_processing2(gray_img)\n",
    "\n",
    "\n",
    "# for i in img_list:\n",
    "#     cur_img = cv2.imread(f'/Users/muqaddis/Documents/COMP9517/GroupProject/Sequences/01/{i}', 1)\n",
    "#     frame = i\n",
    "#     print(frame)\n",
    "#     gray_img = cv2.cvtColor(cur_img, cv2.COLOR_BGR2GRAY)\n",
    "#     pre_processing2(gray_img)"
   ]
  },
  {
   "cell_type": "code",
   "execution_count": null,
   "id": "54cd568c",
   "metadata": {},
   "outputs": [],
   "source": []
  },
  {
   "cell_type": "code",
   "execution_count": null,
   "id": "2a1c0eb5",
   "metadata": {},
   "outputs": [],
   "source": []
  },
  {
   "cell_type": "code",
   "execution_count": 6,
   "id": "ce2049b5",
   "metadata": {},
   "outputs": [],
   "source": [
    "def gamma_filtering(gray_img, deg):\n",
    "    \n",
    "    gamma_filter = copy.deepcopy(gray_img)\n",
    "    rows, cols = gamma_filter.shape[0], gamma_filter.shape[1]\n",
    "    for i in range(rows):\n",
    "        for j in range(cols):\n",
    "            gamma_filter[i][j] = 10 * pow(gamma_filter[i][j], deg)\n",
    "            \n",
    "    gamma_img = cv2.GaussianBlur(gamma_filter, (9,9), 0)\n",
    "    \n",
    "    return gamma_img"
   ]
  },
  {
   "cell_type": "code",
   "execution_count": 7,
   "id": "7cc57197",
   "metadata": {},
   "outputs": [],
   "source": [
    "# A = gamma_filtering(gray_img, 1.5)\n",
    "# C = gamma_filtering(gray_img, 2.5)\n",
    "\n",
    "# plt.figure(figsize = (20,10))\n",
    "# plt.subplot(1,2,1), plt.imshow(A), plt.title('1.5')\n",
    "# plt.xticks([]), plt.yticks([])\n",
    "# plt.subplot(1,2,2), plt.imshow(C), plt.title('2.5')\n",
    "# plt.xticks([]), plt.yticks([])\n",
    "# plt.show()"
   ]
  },
  {
   "cell_type": "code",
   "execution_count": null,
   "id": "020278fe",
   "metadata": {},
   "outputs": [],
   "source": []
  },
  {
   "cell_type": "code",
   "execution_count": 8,
   "id": "3139e477",
   "metadata": {},
   "outputs": [],
   "source": [
    "# Blank Image\n",
    "# gamma_filtering(gray_img, 0)"
   ]
  },
  {
   "cell_type": "code",
   "execution_count": 9,
   "id": "f4374dad",
   "metadata": {},
   "outputs": [],
   "source": [
    "# Cells hard to detect\n",
    "# gamma_filtering(gray_img, 0.5)"
   ]
  },
  {
   "cell_type": "code",
   "execution_count": 10,
   "id": "e643eb28",
   "metadata": {},
   "outputs": [],
   "source": [
    "# Background not clear\n",
    "# gamma_filtering(gray_img, 1.0)"
   ]
  },
  {
   "cell_type": "code",
   "execution_count": 11,
   "id": "b5a1dcdc",
   "metadata": {},
   "outputs": [],
   "source": [
    "# Background not clear\n",
    "# gamma_filtering(gray_img, 1.0)"
   ]
  },
  {
   "cell_type": "code",
   "execution_count": 12,
   "id": "c18b05c8",
   "metadata": {},
   "outputs": [],
   "source": [
    "# Image has holes\n",
    "# gamma_filtering(gray_img, 1.5)"
   ]
  },
  {
   "cell_type": "code",
   "execution_count": 13,
   "id": "c7ed1c18",
   "metadata": {},
   "outputs": [],
   "source": [
    "# Background Blurry\n",
    "# gamma_filtering(gray_img, 2.0)"
   ]
  },
  {
   "cell_type": "code",
   "execution_count": 14,
   "id": "2814946a",
   "metadata": {},
   "outputs": [],
   "source": [
    "# Better display of cells\n",
    "# gamma_filtering(gray_img, 2.5)"
   ]
  },
  {
   "cell_type": "code",
   "execution_count": 15,
   "id": "fb98e8f0",
   "metadata": {},
   "outputs": [],
   "source": [
    "# Background noisy\n",
    "# gamma_filtering(gray_img, 3.0)"
   ]
  },
  {
   "cell_type": "code",
   "execution_count": 16,
   "id": "a091b2d6",
   "metadata": {},
   "outputs": [],
   "source": [
    "# Background noisy\n",
    "# gamma_filtering(gray_img, 3.5)"
   ]
  },
  {
   "cell_type": "code",
   "execution_count": 17,
   "id": "d6508452",
   "metadata": {},
   "outputs": [],
   "source": [
    "# Blank Image\n",
    "# gamma_filtering(gray_img, 4.0)"
   ]
  },
  {
   "cell_type": "code",
   "execution_count": 18,
   "id": "249c3d3c",
   "metadata": {},
   "outputs": [],
   "source": [
    "# Blank Image\n",
    "# gamma_filtering(gray_img, 4.5)"
   ]
  },
  {
   "cell_type": "code",
   "execution_count": 19,
   "id": "d8e764c1",
   "metadata": {},
   "outputs": [],
   "source": [
    "# Blank Image\n",
    "# gamma_filtering(gray_img, 5.0)"
   ]
  },
  {
   "cell_type": "code",
   "execution_count": 20,
   "id": "e4d7b863",
   "metadata": {},
   "outputs": [],
   "source": [
    "# Blank Image\n",
    "# gamma_filtering(gray_img, 5.5)"
   ]
  },
  {
   "cell_type": "code",
   "execution_count": 21,
   "id": "49849d9f",
   "metadata": {},
   "outputs": [],
   "source": [
    "# Blank Image\n",
    "# gamma_filtering(gray_img, 6.0)"
   ]
  },
  {
   "cell_type": "code",
   "execution_count": null,
   "id": "14373f57",
   "metadata": {},
   "outputs": [],
   "source": []
  }
 ],
 "metadata": {
  "kernelspec": {
   "display_name": "Python 3 (ipykernel)",
   "language": "python",
   "name": "python3"
  },
  "language_info": {
   "codemirror_mode": {
    "name": "ipython",
    "version": 3
   },
   "file_extension": ".py",
   "mimetype": "text/x-python",
   "name": "python",
   "nbconvert_exporter": "python",
   "pygments_lexer": "ipython3",
   "version": "3.7.7"
  }
 },
 "nbformat": 4,
 "nbformat_minor": 5
}
